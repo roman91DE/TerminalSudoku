{
 "cells": [
  {
   "cell_type": "code",
   "execution_count": 5,
   "metadata": {},
   "outputs": [],
   "source": [
    "import math"
   ]
  },
  {
   "cell_type": "code",
   "execution_count": 14,
   "metadata": {},
   "outputs": [
    {
     "name": "stdout",
     "output_type": "stream",
     "text": [
      "[1, 2, 3, 4, 5, 6, 7, 8, 9]\n",
      "Rowsum=45\n",
      "Gridsum=405\n"
     ]
    }
   ],
   "source": [
    "arr = [n for n in range(1,10)]\n",
    "print(arr)\n",
    "print(f\"Rowsum={sum(arr)}\")\n",
    "checkSum = 9 * sum(arr)\n",
    "print (f\"Gridsum={checkSum}\")"
   ]
  },
  {
   "cell_type": "code",
   "execution_count": 15,
   "metadata": {},
   "outputs": [],
   "source": [
    "def cstdintRange(bits:int, unsigned:bool=False):\n",
    "    states = 2 ** bits\n",
    "    if unsigned:\n",
    "        print(f\"u_int{bits}_t: {0} bis {(states)-1}\")\n",
    "    else:\n",
    "        print(f\"int{bits}_t: {-(states//2)} bis {(states//2)-1}\")\n"
   ]
  },
  {
   "cell_type": "code",
   "execution_count": 16,
   "metadata": {},
   "outputs": [
    {
     "name": "stdout",
     "output_type": "stream",
     "text": [
      "u_int16_t: 0 bis 65535\n",
      "int16_t: -32768 bis 32767\n",
      "u_int32_t: 0 bis 4294967295\n",
      "int32_t: -2147483648 bis 2147483647\n"
     ]
    }
   ],
   "source": [
    "cstdintRange(16,True)\n",
    "cstdintRange(16)\n",
    "cstdintRange(32,True)\n",
    "cstdintRange(32)\n",
    "\n"
   ]
  },
  {
   "cell_type": "code",
   "execution_count": 8,
   "metadata": {},
   "outputs": [],
   "source": [
    "import pyfiglet"
   ]
  },
  {
   "cell_type": "code",
   "execution_count": 16,
   "metadata": {},
   "outputs": [
    {
     "name": "stdout",
     "output_type": "stream",
     "text": [
      " _____                   _             _    \n",
      "|_   _|__ _ __ _ __ ___ (_)_ __   __ _| |   \n",
      "  | |/ _ \\ '__| '_ ` _ \\| | '_ \\ / _` | |   \n",
      "  | |  __/ |  | | | | | | | | | | (_| | |   \n",
      "  |_|\\___|_|  |_| |_| |_|_|_| |_|\\__,_|_|   \n",
      "                                            \n",
      " ____        ____        _  __       _ \n",
      "/ ___| _   _|  _ \\  ___ | |/ /   _  | |\n",
      "\\___ \\| | | | | | |/ _ \\| ' / | | | | |\n",
      " ___) | |_| | |_| | (_) | . \\ |_| | |_|\n",
      "|____/ \\__,_|____/ \\___/|_|\\_\\__,_| (_)\n",
      "                                       \n",
      "\n"
     ]
    }
   ],
   "source": [
    "ascii_banner = pyfiglet.figlet_format(\"Terminal    SuDoKu !\")\n",
    "print(ascii_banner)"
   ]
  },
  {
   "cell_type": "code",
   "execution_count": null,
   "metadata": {},
   "outputs": [],
   "source": []
  }
 ],
 "metadata": {
  "interpreter": {
   "hash": "38cca0c38332a56087b24af0bc80247f4fced29cb4f7f437d91dc159adec9c4e"
  },
  "kernelspec": {
   "display_name": "Python 3.8.8 64-bit ('base': conda)",
   "name": "python3"
  },
  "language_info": {
   "codemirror_mode": {
    "name": "ipython",
    "version": 3
   },
   "file_extension": ".py",
   "mimetype": "text/x-python",
   "name": "python",
   "nbconvert_exporter": "python",
   "pygments_lexer": "ipython3",
   "version": "3.8.8"
  },
  "orig_nbformat": 4
 },
 "nbformat": 4,
 "nbformat_minor": 2
}
